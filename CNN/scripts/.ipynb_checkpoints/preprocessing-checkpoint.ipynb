{
 "cells": [
  {
   "cell_type": "code",
   "execution_count": 1,
   "metadata": {},
   "outputs": [],
   "source": [
    "import pickle\n",
    "import eeg_cnn_lib\n",
    "import utils\n",
    "import numpy as np\n",
    "import cv2"
   ]
  },
  {
   "cell_type": "code",
   "execution_count": null,
   "metadata": {},
   "outputs": [],
   "source": [
    "def gen_data(data, ratings, participant, category, ratio, fs, window):\n",
    "    trials = data.shape[0]\n",
    "    channels = data.shape[1]\n",
    "    time = data\n",
    "    for t in range(trials)"
   ]
  },
  {
   "cell_type": "code",
   "execution_count": 2,
   "metadata": {},
   "outputs": [],
   "source": [
    "coordinates_2d = np.genfromtxt('/home/maria/Pulpit/DW/dane/coordinates2D.csv', delimiter=',')"
   ]
  },
  {
   "cell_type": "code",
   "execution_count": 3,
   "metadata": {},
   "outputs": [],
   "source": [
    "data_raw = pickle.load(open('/home/maria/Pulpit/DW/dane/data_preprocessed_python/s01.dat', 'rb'), encoding='iso-8859-1')\n",
    "fs = 128"
   ]
  },
  {
   "cell_type": "code",
   "execution_count": 4,
   "metadata": {},
   "outputs": [],
   "source": [
    "thetas = np.zeros((32,1))\n",
    "alphas = np.zeros((32,1))\n",
    "betas = np.zeros((32,1))\n",
    "gammas = np.zeros((32,1))\n",
    "for i in range(32):\n",
    "    data = data_raw['data'][1][i][:134*8]\n",
    "    theta, alpha, beta, gamma = utils.psd_bands(data, 128)\n",
    "    alphas[i] = alpha\n",
    "    betas[i] = beta\n",
    "    gammas[i] = gamma\n",
    "    thetas[i] = theta\n",
    "features = np.hstack((thetas, alphas, betas, gammas))\n",
    "image = eeg_cnn_lib.gen_image(coordinates_2d,features,32,4)\n",
    "\n",
    "cv2.imwrite('example.png',image)"
   ]
  },
  {
   "cell_type": "code",
   "execution_count": 23,
   "metadata": {},
   "outputs": [],
   "source": [
    "data_raw = pickle.load(open('/home/maria/Pulpit/DW/dane/data_preprocessed_python/s01.dat', 'rb'), encoding='iso-8859-1')"
   ]
  },
  {
   "cell_type": "code",
   "execution_count": 25,
   "metadata": {},
   "outputs": [
    {
     "name": "stdout",
     "output_type": "stream",
     "text": [
      "(40, 40, 8064)\n"
     ]
    }
   ],
   "source": [
    "print(data_raw['data'][:,:,.shape)"
   ]
  }
 ],
 "metadata": {
  "kernelspec": {
   "display_name": "Python 3",
   "language": "python",
   "name": "python3"
  },
  "language_info": {
   "codemirror_mode": {
    "name": "ipython",
    "version": 3
   },
   "file_extension": ".py",
   "mimetype": "text/x-python",
   "name": "python",
   "nbconvert_exporter": "python",
   "pygments_lexer": "ipython3",
   "version": "3.7.4"
  }
 },
 "nbformat": 4,
 "nbformat_minor": 2
}
