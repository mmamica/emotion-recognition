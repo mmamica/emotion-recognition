{
 "cells": [
  {
   "cell_type": "code",
   "execution_count": 6,
   "metadata": {},
   "outputs": [],
   "source": [
    "import os\n",
    "\n",
    "# The images are in a folder named 'shapes/training'\n",
    "train_dir_name = '../../../data/classification/valence/train'\n",
    "\n",
    "# All images are 128x128 pixels\n",
    "img_size = (32,32)\n",
    "\n",
    "# The folder contains a subfolder for each class of shape\n",
    "classes = sorted(os.listdir(training_folder_name))"
   ]
  },
  {
   "cell_type": "code",
   "execution_count": 7,
   "metadata": {},
   "outputs": [
    {
     "name": "stdout",
     "output_type": "stream",
     "text": [
      "Keras version: 2.3.1\n"
     ]
    }
   ],
   "source": [
    "import sys\n",
    "import keras\n",
    "print('Keras version:',keras.__version__)\n",
    "\n",
    "from keras import backend as K"
   ]
  },
  {
   "cell_type": "code",
   "execution_count": 9,
   "metadata": {},
   "outputs": [
    {
     "name": "stdout",
     "output_type": "stream",
     "text": [
      "Found 11015 images belonging to 2 classes.\n",
      "Found 2752 images belonging to 2 classes.\n"
     ]
    }
   ],
   "source": [
    "from keras.preprocessing.image import ImageDataGenerator\n",
    "\n",
    "batch_size = 30\n",
    "\n",
    "datagen = ImageDataGenerator(rescale=1./255, # normalize pixel values\n",
    "                             validation_split=0.2) # hold back 30% of the images for validation\n",
    "\n",
    "train_generator = datagen.flow_from_directory(\n",
    "    train_dir_name,\n",
    "    target_size=img_size,\n",
    "    color_mode='rgba',\n",
    "    batch_size=batch_size,\n",
    "    class_mode='categorical',\n",
    "    subset='training') # set as training data\n",
    "\n",
    "validation_generator = datagen.flow_from_directory(\n",
    "    train_dir_name,\n",
    "    target_size=img_size,\n",
    "    color_mode='rgba',\n",
    "    batch_size=batch_size,\n",
    "    class_mode='categorical',\n",
    "    subset='validation') # set as validation data"
   ]
  },
  {
   "cell_type": "code",
   "execution_count": 21,
   "metadata": {},
   "outputs": [
    {
     "name": "stdout",
     "output_type": "stream",
     "text": [
      "Model: \"sequential_12\"\n",
      "_________________________________________________________________\n",
      "Layer (type)                 Output Shape              Param #   \n",
      "=================================================================\n",
      "conv2d_17 (Conv2D)           (None, 32, 32, 32)        1184      \n",
      "_________________________________________________________________\n",
      "max_pooling2d_8 (MaxPooling2 (None, 16, 16, 32)        0         \n",
      "_________________________________________________________________\n",
      "conv2d_18 (Conv2D)           (None, 16, 16, 64)        18496     \n",
      "_________________________________________________________________\n",
      "max_pooling2d_9 (MaxPooling2 (None, 8, 8, 64)          0         \n",
      "_________________________________________________________________\n",
      "conv2d_19 (Conv2D)           (None, 8, 8, 128)         73856     \n",
      "_________________________________________________________________\n",
      "max_pooling2d_10 (MaxPooling (None, 4, 4, 128)         0         \n",
      "=================================================================\n",
      "Total params: 93,536\n",
      "Trainable params: 93,536\n",
      "Non-trainable params: 0\n",
      "_________________________________________________________________\n",
      "None\n"
     ]
    }
   ],
   "source": [
    "from keras.models import Sequential\n",
    "from keras.layers import Conv2D, MaxPooling2D\n",
    "from keras.layers import Activation, Flatten, Dense\n",
    "from keras import optimizers\n",
    "\n",
    "model = Sequential()\n",
    "\n",
    "model.add(Conv2D(32, (3, 3), strides=1, padding='same', input_shape=train_generator.image_shape, activation='relu'))\n",
    "\n",
    "model.add(MaxPooling2D(pool_size=(2,2),strides=2))\n",
    "\n",
    "model.add(Conv2D(64, (3, 3), strides=1, padding='same', input_shape=train_generator.image_shape, activation='relu'))\n",
    "\n",
    "model.add(MaxPooling2D(pool_size=(2,2),strides=2))\n",
    "\n",
    "model.add(Conv2D(128, (3, 3), strides=1, padding='same', input_shape=train_generator.image_shape, activation='relu'))\n",
    "\n",
    "model.add(MaxPooling2D(pool_size=(2,2),strides=2))\n",
    "\n",
    "\n",
    "opt = optimizers.Adam(lr=0.001)\n",
    "\n",
    "print(model.summary())"
   ]
  },
  {
   "cell_type": "code",
   "execution_count": null,
   "metadata": {},
   "outputs": [],
   "source": []
  }
 ],
 "metadata": {
  "kernelspec": {
   "display_name": "Python 3",
   "language": "python",
   "name": "python3"
  },
  "language_info": {
   "codemirror_mode": {
    "name": "ipython",
    "version": 3
   },
   "file_extension": ".py",
   "mimetype": "text/x-python",
   "name": "python",
   "nbconvert_exporter": "python",
   "pygments_lexer": "ipython3",
   "version": "3.7.4"
  }
 },
 "nbformat": 4,
 "nbformat_minor": 2
}
