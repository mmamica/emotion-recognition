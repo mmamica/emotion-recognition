{
 "cells": [
  {
   "cell_type": "code",
   "execution_count": 1,
   "metadata": {},
   "outputs": [],
   "source": [
    "import pickle\n",
    "import numpy as np\n",
    "import sys  \n",
    "sys.path.insert(0, '../scripts')\n",
    "\n",
    "from eeg_cnn_lib import gen_data"
   ]
  },
  {
   "cell_type": "code",
   "execution_count": 8,
   "metadata": {},
   "outputs": [],
   "source": [
    "coordinates_2d = np.genfromtxt('../../../data/coordinates.csv', delimiter=',')\n",
    "ratings = np.genfromtxt('../../../data/participant_ratings_clean.csv', delimiter=',')[1:,:]"
   ]
  },
  {
   "cell_type": "code",
   "execution_count": 9,
   "metadata": {},
   "outputs": [],
   "source": [
    "fs = 128\n",
    "participants = 32\n",
    "trials = 40"
   ]
  },
  {
   "cell_type": "code",
   "execution_count": 10,
   "metadata": {},
   "outputs": [],
   "source": [
    "for p in range(1,participants + 1):\n",
    "    number = str(p)\n",
    "    if p <10:\n",
    "        number = '0' + number\n",
    "    path = '../../../data/data_preprocessed_python/s' + number + '.dat'\n",
    "    data_raw = pickle.load(open(path, 'rb'), encoding='iso-8859-1')\n",
    "    data = data_raw['data'][:,:,3*fs:8064]\n",
    "    ratings_temp = ratings[(p-1)*trials:p*trials,:]\n",
    "    gen_data(data,ratings,coordinates_2d,p,\"valence\",fs,32,8,\"../../../data/classification\")"
   ]
  },
  {
   "cell_type": "code",
   "execution_count": 11,
   "metadata": {},
   "outputs": [],
   "source": [
    "for p in range(1,participants + 1):\n",
    "    number = str(p)\n",
    "    if p <10:\n",
    "        number = '0' + number\n",
    "    path = '../../../data/data_preprocessed_python/s' + number + '.dat'\n",
    "    data_raw = pickle.load(open(path, 'rb'), encoding='iso-8859-1')\n",
    "    data = data_raw['data'][:,:,3*fs:8064]\n",
    "    ratings_temp = ratings[(p-1)*trials:p*trials,:]\n",
    "    gen_data(data,ratings,coordinates_2d,p,\"arousal\",fs,32,8,\"../../../data/classification\")"
   ]
  }
 ],
 "metadata": {
  "kernelspec": {
   "display_name": "Python 3",
   "language": "python",
   "name": "python3"
  },
  "language_info": {
   "codemirror_mode": {
    "name": "ipython",
    "version": 3
   },
   "file_extension": ".py",
   "mimetype": "text/x-python",
   "name": "python",
   "nbconvert_exporter": "python",
   "pygments_lexer": "ipython3",
   "version": "3.7.6"
  }
 },
 "nbformat": 4,
 "nbformat_minor": 2
}
